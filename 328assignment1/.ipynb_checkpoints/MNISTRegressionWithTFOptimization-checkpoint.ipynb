{
 "cells": [
  {
   "cell_type": "code",
   "execution_count": 1,
   "metadata": {},
   "outputs": [
    {
     "ename": "ImportError",
     "evalue": "No module named 'tensorflow'",
     "output_type": "error",
     "traceback": [
      "\u001b[1;31m---------------------------------------------------------------------------\u001b[0m",
      "\u001b[1;31mImportError\u001b[0m                               Traceback (most recent call last)",
      "\u001b[1;32m<ipython-input-1-b95d187dfd5d>\u001b[0m in \u001b[0;36m<module>\u001b[1;34m()\u001b[0m\n\u001b[0;32m      1\u001b[0m \u001b[1;32mimport\u001b[0m \u001b[0mnumpy\u001b[0m \u001b[1;32mas\u001b[0m \u001b[0mnp\u001b[0m\u001b[1;33m\u001b[0m\u001b[0m\n\u001b[1;32m----> 2\u001b[1;33m \u001b[1;32mimport\u001b[0m \u001b[0mtensorflow\u001b[0m \u001b[1;32mas\u001b[0m \u001b[0mtf\u001b[0m\u001b[1;33m\u001b[0m\u001b[0m\n\u001b[0m\u001b[0;32m      3\u001b[0m \u001b[1;32mfrom\u001b[0m \u001b[0mtensorflow\u001b[0m\u001b[1;33m.\u001b[0m\u001b[0mexamples\u001b[0m\u001b[1;33m.\u001b[0m\u001b[0mtutorials\u001b[0m\u001b[1;33m.\u001b[0m\u001b[0mmnist\u001b[0m \u001b[1;32mimport\u001b[0m \u001b[0minput_data\u001b[0m\u001b[1;33m\u001b[0m\u001b[0m\n\u001b[0;32m      4\u001b[0m \u001b[1;32mimport\u001b[0m \u001b[0mmatplotlib\u001b[0m\u001b[1;33m\u001b[0m\u001b[0m\n\u001b[0;32m      5\u001b[0m \u001b[1;32mimport\u001b[0m \u001b[0mmatplotlib\u001b[0m\u001b[1;33m.\u001b[0m\u001b[0mpyplot\u001b[0m \u001b[1;32mas\u001b[0m \u001b[0mplt\u001b[0m\u001b[1;33m\u001b[0m\u001b[0m\n",
      "\u001b[1;31mImportError\u001b[0m: No module named 'tensorflow'"
     ]
    }
   ],
   "source": [
    "import numpy as np\n",
    "import tensorflow as tf\n",
    "from tensorflow.examples.tutorials.mnist import input_data\n",
    "import matplotlib\n",
    "import matplotlib.pyplot as plt\n",
    "\n",
    "mnist = input_data.read_data_sets(\"/tmp/data\",one_hot=False)\n",
    "\n",
    "ntrain = mnist.train.num_examples\n",
    "Xtrain = mnist.train.images\n",
    "ytrain = mnist.train.labels\n",
    "print(ntrain,Xtrain.shape,ytrain.shape)\n",
    "ytrain = ytrain.reshape(ntrain,1)\n",
    "print(ytrain.shape)\n",
    "\n",
    "nvalidation = mnist.validation.num_examples\n",
    "Xvalidation = mnist.validation.images\n",
    "yvalidation = mnist.validation.labels\n",
    "print(nvalidation,Xvalidation.shape,yvalidation.shape)\n",
    "yvalidation = yvalidation.reshape(nvalidation,1)\n",
    "print(yvalidation.shape)\n",
    "\n",
    "ntest = mnist.test.num_examples\n",
    "Xtest = mnist.test.images\n",
    "ytest = mnist.test.labels\n",
    "ytest = ytest.reshape(ntest,1)\n",
    "print(ytest.shape)\n",
    "\n",
    "def plot_image(image,shape=[28,28]):\n",
    "    plt.imshow(image.reshape(shape),cmap=\"Greys\",interpolation=\"nearest\")\n",
    "    plt.axis(\"off\")\n",
    "    \n",
    "%matplotlib inline\n",
    "plt.figure(figsize=(10,20))\n",
    "for iteration in range(100):\n",
    "    plt.subplot(100, 10, iteration + 1)\n",
    "    plot_image(Xtrain[iteration,:])\n"
   ]
  },
  {
   "cell_type": "code",
   "execution_count": 3,
   "metadata": {},
   "outputs": [
    {
     "name": "stdout",
     "output_type": "stream",
     "text": [
      "23.5505 22.1023 8.59636 8.72\n",
      "4.50751 4.31239 19.0382 19.2\n",
      "3.44246 3.30348 20.5909 21.04\n",
      "3.32116 3.18387 20.92 21.04\n",
      "3.31486 3.17554 21.4218 21.56\n",
      "3.30843 3.1764 21.12 21.38\n",
      "3.30777 3.16567 20.9382 21.06\n",
      "3.30764 3.16386 20.8182 20.82\n",
      "3.31015 3.16968 20.9964 21.04\n",
      "3.30951 3.16347 20.7018 20.86\n",
      "19.92\n"
     ]
    }
   ],
   "source": [
    "# Ridge regression with SGD\n",
    "n_inputs = 28 * 28\n",
    "\n",
    "Xmean = np.mean(Xtrain,axis=0) # mean of data vector\n",
    "ymean = np.mean(ytrain,axis=0) # bias of the model\n",
    "\n",
    "X = tf.placeholder(tf.float32,[None, n_inputs])\n",
    "Xm = X - Xmean # data centering\n",
    "y = tf.placeholder(tf.float32,[None, 1       ])\n",
    "XmT = tf.transpose(Xm)\n",
    "\n",
    "lr = 0.001 # learning rate\n",
    "lam_val = 10 # regularization parameter\n",
    "\n",
    "theta = tf.Variable(tf.random_normal([n_inputs,1])) # parameter of the linear model\n",
    "yp = tf.matmul(Xm,theta)+ymean # predicted y\n",
    "error = yp - y\n",
    "# mean squared error as loss function\n",
    "mse = 0.5 * tf.reduce_mean(tf.square(error)) + 0.5 * lam_val * tf.reduce_mean(tf.square(theta))\n",
    "\n",
    "#optimizer = tf.train.GradientDescentOptimizer(learning_rate = lr) # tensorflow optimizer\n",
    "optimizer = tf.train.AdamOptimizer(learning_rate = lr) # another better optimizer\n",
    "#gradient = tf.matmul(XmT,error) + lam_val * theta\n",
    "#training_op = tf.assign(theta, theta - lr * gradient)\n",
    "\n",
    "training_op = optimizer.minimize(mse)\n",
    "\n",
    "y1 = tf.placeholder(tf.float32,[None, 1])\n",
    "y2 = tf.placeholder(tf.float32,[None, 1])\n",
    "acc = 100.0*tf.reduce_mean(tf.cast(tf.equal(y1,y2),tf.float32))\n",
    "\n",
    "init = tf.global_variables_initializer()\n",
    "\n",
    "n_epochs = 100\n",
    "batch_size = 200\n",
    "\n",
    "with tf.Session() as sess:\n",
    "    sess.run(init)\n",
    "    for epoch in range(n_epochs):\n",
    "        # compute model\n",
    "        n_batches = mnist.train.num_examples // batch_size\n",
    "        for iteration in range(n_batches):\n",
    "            X_batch,y_batch = mnist.train.next_batch(batch_size)\n",
    "            y_batch = y_batch.reshape(batch_size,1)\n",
    "            sess.run(training_op, feed_dict={X:X_batch, y:y_batch})\n",
    "        \n",
    "        if epoch%10 == 0:\n",
    "            theta_value = theta.eval()\n",
    "            # prediction on training set\n",
    "            yp_train = yp.eval(feed_dict={X:Xtrain, theta:theta_value})\n",
    "            acc_train = acc.eval(feed_dict={y1:ytrain, y2:np.round(yp_train)})\n",
    "            regerr_train = tf.reduce_mean(tf.square(yp_train-ytrain)).eval()\n",
    "        \n",
    "            # prediction on validation set\n",
    "            yp_validation = yp.eval(feed_dict={X:Xvalidation, theta:theta_value})\n",
    "            acc_validation = acc.eval(feed_dict={y1:yvalidation, y2:np.round(yp_validation)})\n",
    "            regerr_validation = tf.reduce_mean(tf.square(yp_validation-yvalidation)).eval()        \n",
    "                    \n",
    "            print(regerr_train, regerr_validation, acc_train, acc_validation)\n",
    "            \n",
    "        theta_value = theta.eval()\n",
    "    # Now that the model is trained, it is the test time!\n",
    "    yp_test = yp.eval(feed_dict={X:Xtest, theta:theta_value})\n",
    "    acc_test = acc.eval(feed_dict={y1:ytest, y2:np.round(yp_test)})\n",
    "    print(acc_test)\n"
   ]
  },
  {
   "cell_type": "code",
   "execution_count": 10,
   "metadata": {},
   "outputs": [
    {
     "data": {
      "image/png": "[encoded data removed]",
      "text/plain": [
       "<matplotlib.figure.Figure at 0x7f893a63f630>"
      ]
     },
     "metadata": {},
     "output_type": "display_data"
    }
   ],
   "source": [
    "import matplotlib\n",
    "import matplotlib.pyplot as plt\n",
    "\n",
    "def plot_image(image,shape=[28,28]):\n",
    "    plt.imshow(image.reshape(shape),cmap=\"Greys\",interpolation=\"nearest\")\n",
    "    plt.axis(\"off\")\n",
    "    \n",
    "%matplotlib inline\n",
    "plot_image(theta_value)"
   ]
  },
  {
   "cell_type": "code",
   "execution_count": null,
   "metadata": {
    "collapsed": true
   },
   "outputs": [],
   "source": []
  }
 ],
 "metadata": {
  "kernelspec": {
   "display_name": "Python 3",
   "language": "python",
   "name": "python3"
  },
  "language_info": {
   "codemirror_mode": {
    "name": "ipython",
    "version": 3
   },
   "file_extension": ".py",
   "mimetype": "text/x-python",
   "name": "python",
   "nbconvert_exporter": "python",
   "pygments_lexer": "ipython3",
   "version": "3.5.4"
  }
 },
 "nbformat": 4,
 "nbformat_minor": 2
}
