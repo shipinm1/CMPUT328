{
 "cells": [
  {
   "cell_type": "code",
   "execution_count": 75,
   "metadata": {},
   "outputs": [
    {
     "name": "stdout",
     "output_type": "stream",
     "text": [
      "X:  [[ 1.  0.  0.  1.]\n",
      " [ 0.  0.  1.  1.]]\n",
      "Y:  [[ 1.  0.  1.  0.]]\n"
     ]
    }
   ],
   "source": [
    "# this notebook implements logical xor function with backprop\n",
    "import numpy as np\n",
    "import tensorflow as tf\n",
    "\n",
    "X = np.array([[1.0,0.0,0.0,1.0],[0.0,0.0,1.0,1.0]],dtype=np.float32) # 2x4 matrix\n",
    "Y = np.array([[1.0,0.0,1.0,0.0]],dtype=np.float32)                   # 1x4 vector\n",
    "print(\"X: \", X)\n",
    "print(\"Y: \", Y)\n",
    "\n",
    "# parameters of neural net\n",
    "W1 = tf.Variable(tf.random_uniform([2,2],minval=-1,maxval=1,seed=1)) # 2x2 matrix\n",
    "b1 = tf.Variable([[0.0],[0.0]])                                      # 2x1 vector\n",
    "W2 = tf.Variable(tf.random_uniform([1,2],minval=-1,maxval=1,seed=1)) # 1x2 vector\n",
    "b2 = tf.Variable(0.0)                                                # scalar\n",
    "\n",
    "# computational graph for forward pass\n",
    "Z1 = tf.matmul(W1,X)   # 2x4 matrix\n",
    "Z2 = Z1 + b1           # 2x4 matrix\n",
    "Z3 = tf.nn.sigmoid(Z2) # 2x4 matrix\n",
    "Z4 = tf.matmul(W2,Z3)  # 1x4 vector\n",
    "Z5 = Z4 + b2           # 1x4 vector\n",
    "Yp = tf.nn.sigmoid(Z5) # 1x4 vector\n",
    "\n",
    "# computational graph for backward pass\n",
    "dYp = Yp - Y                               # 1x4 vector\n",
    "dZ5 = Yp*(1.0 - Yp)*dYp                    # 1x4 vector\n",
    "dZ4 = dZ5                                  # 1x4 vector\n",
    "dZ3 = tf.matmul(tf.transpose(W2),dZ4)      # 2x4 matrix\n",
    "dZ2 = Z3 * (1.0 - Z3) * dZ3                # 2x4 matrix\n",
    "dZ1 = dZ2                                  # 2x4 matrix\n",
    "dW2 = tf.matmul(dZ4, tf.transpose(Z3))     # 1x2 vector\n",
    "db2 = tf.reduce_sum(dZ5)                   # scalar\n",
    "dW1 = tf.matmul(dZ1,tf.transpose(X))       # 2x2 matrix\n",
    "db1 = tf.reduce_sum(dZ2,1,keep_dims=True)  # 2x1 vector"
   ]
  },
  {
   "cell_type": "code",
   "execution_count": 76,
   "metadata": {},
   "outputs": [
    {
     "name": "stdout",
     "output_type": "stream",
     "text": [
      "0.125274\n",
      "0.00501187\n",
      "0.000747451\n",
      "0.00039308\n",
      "0.000264586\n",
      "0.000198704\n",
      "0.000158782\n",
      "0.000132058\n",
      "0.000112942\n",
      "9.86036e-05\n",
      "Learned output:  [[ 0.98470771  0.01327089  0.98768425  0.01178161]]\n",
      "Ideal output:  [[ 1.  0.  1.  0.]]\n"
     ]
    }
   ],
   "source": [
    "# init node for variable initialization\n",
    "init = tf.global_variables_initializer()\n",
    "\n",
    "# square loss function\n",
    "l2loss = 0.5*tf.reduce_mean(tf.square(Yp-Y))\n",
    "\n",
    "learning_rate = 8.0\n",
    "\n",
    "# training operators\n",
    "training_op1a = tf.assign(W1,W1 - learning_rate * dW1 )\n",
    "training_op1b = tf.assign(b1,b1 - learning_rate * db1 )\n",
    "training_op2a = tf.assign(W2,W2 - learning_rate * dW2 )\n",
    "training_op2b = tf.assign(b2,b2 - learning_rate * db2 )\n",
    "\n",
    "with tf.Session() as sess:\n",
    "    sess.run(init)\n",
    "    for epoch in range(1000):\n",
    "        # gradient descent to adjust parameters\n",
    "        sess.run([training_op1a,training_op1b,training_op2a,training_op2b])\n",
    "        \n",
    "        if epoch%100 == 0:\n",
    "            error = l2loss.eval()\n",
    "            print(error)\n",
    "    out = Yp.eval()\n",
    "\n",
    "print(\"Learned output: \",out)\n",
    "print(\"Ideal output: \",Y)"
   ]
  },
  {
   "cell_type": "code",
   "execution_count": null,
   "metadata": {
    "collapsed": true
   },
   "outputs": [],
   "source": []
  }
 ],
 "metadata": {
  "kernelspec": {
   "display_name": "Python 3",
   "language": "python",
   "name": "python3"
  },
  "language_info": {
   "codemirror_mode": {
    "name": "ipython",
    "version": 3
   },
   "file_extension": ".py",
   "mimetype": "text/x-python",
   "name": "python",
   "nbconvert_exporter": "python",
   "pygments_lexer": "ipython3",
   "version": "3.5.4"
  }
 },
 "nbformat": 4,
 "nbformat_minor": 2
}
