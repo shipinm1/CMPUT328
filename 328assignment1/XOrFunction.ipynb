{
 "cells": [
  {
   "cell_type": "code",
   "execution_count": 3,
   "metadata": {},
   "outputs": [
    {
     "name": "stdout",
     "output_type": "stream",
     "text": [
      "X:  [[ 1.  0.  0.  1.]\n",
      " [ 0.  0.  1.  1.]]\n",
      "Y:  [[ 1.  0.  1.  0.]]\n",
      "W1:  [[-0.52192521  0.84079909]\n",
      " [-0.89897513 -0.00851107]]\n",
      "Z1:  [[-0.52192521  0.          0.84079909  0.31887388]\n",
      " [-0.89897513  0.         -0.00851107 -0.9074862 ]]\n",
      "b1:  [[ 0.]\n",
      " [ 0.]]\n",
      "Z2:  [[-0.52192521  0.          0.84079909  0.31887388]\n",
      " [-0.89897513  0.         -0.00851107 -0.9074862 ]]\n",
      "Z3:  [[ 0.37240219  0.5         0.69863349  0.57904977]\n",
      " [ 0.28926116  0.5         0.49787226  0.28751451]]\n",
      "W2:  [[-0.52192521  0.84079909]]\n",
      "Z4:  [[ 0.04884443  0.15943694  0.05397612 -0.06047873]]\n",
      "b2:  0.0\n",
      "Z5:  [[ 0.04884443  0.15943694  0.05397612 -0.06047873]]\n",
      "Yp:  [[ 0.5122087   0.53977501  0.51349074  0.48488492]]\n",
      "L2Loss:  0.250275\n",
      "0.25012\n",
      "0.00813723\n",
      "0.00221489\n",
      "0.00123446\n",
      "0.000846501\n",
      "0.00064096\n",
      "0.000514356\n",
      "0.000428803\n",
      "0.000367241\n",
      "0.000320883\n",
      "[[ 0.98069853  0.01698895  0.98405659  0.01499737]]\n"
     ]
    }
   ],
   "source": [
    "# this notebook implements logical xor function with internal tensorflow backprop\n",
    "import numpy as np\n",
    "import tensorflow as tf\n",
    "\n",
    "X = np.array([[1.0,0.0,0.0,1.0],[0.0,0.0,1.0,1.0]],dtype=np.float32) # 2x4 matrix\n",
    "Y = np.array([[1.0,0.0,1.0,0.0]],dtype=np.float32)                   # 1x4 vector\n",
    "print(\"X: \", X)\n",
    "print(\"Y: \", Y)\n",
    "\n",
    "# parameters of neural net\n",
    "W1 = tf.Variable(tf.random_uniform([2,2],minval=-1,maxval=1,seed=1)) # 2x2 matrix\n",
    "b1 = tf.Variable([[0.0],[0.0]])                                      # 2x1 vector\n",
    "W2 = tf.Variable(tf.random_uniform([1,2],minval=-1,maxval=1,seed=1)) # 1x2 vector\n",
    "b2 = tf.Variable(0.0)                                                # scalar\n",
    "\n",
    "# computational graph\n",
    "Z1 = tf.matmul(W1,X)   # 2x4 matrix\n",
    "Z2 = Z1 + b1           # 2x4 matrix\n",
    "Z3 = tf.nn.sigmoid(Z2) # 2x4 matrix\n",
    "Z4 = tf.matmul(W2,Z3)  # 1x4 vector\n",
    "Z5 = Z4 + b2           # 1x4 vector\n",
    "Yp = tf.nn.sigmoid(Z5) # 1x4 vector\n",
    "\n",
    "# init node for variable initialization\n",
    "init = tf.global_variables_initializer()\n",
    "\n",
    "# square loss function\n",
    "l2loss = tf.reduce_mean(tf.square(Yp-Y))\n",
    "\n",
    "# tensorflow optimizer\n",
    "optimizer = tf.train.GradientDescentOptimizer(learning_rate = 10)\n",
    "\n",
    "# training operator\n",
    "training_op = optimizer.minimize(l2loss)\n",
    "\n",
    "with tf.Session() as sess:\n",
    "    sess.run(init)\n",
    "    for epoch in range(1000):\n",
    "        if epoch==0: # just to see the computational graph at the beginning \n",
    "            W1_val = W1.eval()\n",
    "            b1_val = b1.eval()\n",
    "            W2_val = W2.eval()\n",
    "            b2_val = b2.eval()\n",
    "            Z1_val = Z1.eval()\n",
    "            Z2_val = Z2.eval()\n",
    "            Z3_val = Z3.eval()\n",
    "            Z4_val = Z4.eval()\n",
    "            Z5_val = Z5.eval()\n",
    "            Yp_val = Yp.eval()\n",
    "            error = l2loss.eval()\n",
    "            print(\"W1: \",W1_val)\n",
    "            print(\"Z1: \",Z1_val)\n",
    "            print(\"b1: \",b1_val)\n",
    "            print(\"Z2: \",Z2_val)\n",
    "            print(\"Z3: \",Z3_val)\n",
    "            print(\"W2: \",W2_val)\n",
    "            print(\"Z4: \",Z4_val)\n",
    "            print(\"b2: \",b2_val)\n",
    "            print(\"Z5: \",Z5_val)            \n",
    "            print(\"Yp: \",Yp_val)\n",
    "            print(\"L2Loss: \",error)\n",
    "        sess.run(training_op)\n",
    "        if epoch%100 == 0:\n",
    "            error = l2loss.eval()\n",
    "            print(error)\n",
    "    out = Yp.eval()\n",
    "    print(out)\n"
   ]
  },
  {
   "cell_type": "code",
   "execution_count": null,
   "metadata": {
    "collapsed": true
   },
   "outputs": [],
   "source": []
  },
  {
   "cell_type": "code",
   "execution_count": null,
   "metadata": {
    "collapsed": true
   },
   "outputs": [],
   "source": []
  }
 ],
 "metadata": {
  "kernelspec": {
   "display_name": "Python 3",
   "language": "python",
   "name": "python3"
  },
  "language_info": {
   "codemirror_mode": {
    "name": "ipython",
    "version": 3
   },
   "file_extension": ".py",
   "mimetype": "text/x-python",
   "name": "python",
   "nbconvert_exporter": "python",
   "pygments_lexer": "ipython3",
   "version": "3.5.4"
  }
 },
 "nbformat": 4,
 "nbformat_minor": 2
}
